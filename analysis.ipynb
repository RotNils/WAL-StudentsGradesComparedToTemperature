{
 "cells": [
  {
   "cell_type": "code",
   "execution_count": 1,
   "metadata": {},
   "outputs": [
    {
     "name": "stdout",
     "output_type": "stream",
     "text": [
      "T-statistic: 0.439, P-value: 0.66097\n"
     ]
    }
   ],
   "source": [
    "from scipy.stats import ttest_ind\n",
    "import pandas as pd\n",
    "\n",
    "# Load the data\n",
    "df = pd.read_csv(\"european_semester_avg.csv\")\n",
    "\n",
    "# Filter the data\n",
    "sose_grades = df[df[\"European Semester\"] == \"SoSe\"][\"Average Numeric Grade\"]\n",
    "wise_grades = df[df[\"European Semester\"] == \"WiSe\"][\"Average Numeric Grade\"]\n",
    "\n",
    "# Perform an independent t-test\n",
    "t_stat, p_value = ttest_ind(sose_grades, wise_grades, equal_var=False)  # Welch's t-test\n",
    "\n",
    "# Print results\n",
    "print(f\"T-statistic: {t_stat:.3f}, P-value: {p_value:.5f}\")\n"
   ]
  }
 ],
 "metadata": {
  "kernelspec": {
   "display_name": "base",
   "language": "python",
   "name": "python3"
  },
  "language_info": {
   "codemirror_mode": {
    "name": "ipython",
    "version": 3
   },
   "file_extension": ".py",
   "mimetype": "text/x-python",
   "name": "python",
   "nbconvert_exporter": "python",
   "pygments_lexer": "ipython3",
   "version": "3.11.7"
  }
 },
 "nbformat": 4,
 "nbformat_minor": 2
}
